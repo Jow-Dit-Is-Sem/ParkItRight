{
 "cells": [
  {
   "cell_type": "markdown",
   "metadata": {},
   "source": [
    "## ParkItRight - Specific"
   ]
  },
  {
   "cell_type": "markdown",
   "metadata": {},
   "source": [
    "#### Import the required libraries"
   ]
  },
  {
   "cell_type": "code",
   "execution_count": 9,
   "metadata": {},
   "outputs": [],
   "source": [
    "%matplotlib inline\n",
    "\n",
    "import os\n",
    "import math\n",
    "import random\n",
    "import shutil\n",
    "import torch\n",
    "from ultralytics import YOLO\n",
    "from sklearn.metrics import accuracy_score, precision_score, recall_score, f1_score, confusion_matrix\n",
    "import seaborn as sns\n",
    "import matplotlib.pyplot as plt\n",
    "import csv\n",
    "import pandas as pd"
   ]
  },
  {
   "cell_type": "markdown",
   "metadata": {},
   "source": [
    "#### Clear the splits for training, validating and testing the model"
   ]
  },
  {
   "cell_type": "code",
   "execution_count": 10,
   "metadata": {},
   "outputs": [],
   "source": [
    "folders_to_clear = [\"images_split/train/correct\", \"images_split/train/incorrect\", \"images_split/test/correct\", \"images_split/test/incorrect\", \"images_split/val/correct\", \"images_split/val/incorrect\"]\n",
    "for folder in folders_to_clear:\n",
    "    for item in os.listdir(folder):\n",
    "        if item != \".gitkeep\":\n",
    "            item_path = os.path.join(folder, item)\n",
    "            os.unlink(item_path)\n",
    "if os.path.exists(\"images_split/train.cache\"):\n",
    "    os.unlink(\"images_split/train.cache\")\n",
    "if os.path.exists(\"images_split/val.cache\"):\n",
    "    os.unlink(\"images_split/val.cache\")"
   ]
  },
  {
   "cell_type": "markdown",
   "metadata": {},
   "source": [
    "#### Copy the data in random splits the images for testing and splits of 75% for training and 25% for validation of the specific data"
   ]
  },
  {
   "cell_type": "code",
   "execution_count": 11,
   "metadata": {},
   "outputs": [],
   "source": [
    "labels = [\"correct\", \"incorrect\"]\n",
    "images_amount = 0\n",
    "for label in labels:\n",
    "    specific_images = os.listdir(f\"images_specific/other/{label}\")\n",
    "    random.shuffle(specific_images)\n",
    "    images_amount += len(specific_images)\n",
    "    cutoff_index = math.ceil(len(specific_images) * 0.75)\n",
    "    test_images = os.listdir(f\"images_specific/mazda_mx5/{label}\")\n",
    "    random.shuffle(test_images)\n",
    "\n",
    "    splits = {\n",
    "        \"train\": [\"other\", specific_images[:cutoff_index]],\n",
    "        \"val\": [\"other\", specific_images[cutoff_index:]],\n",
    "        \"test\": [\"mazda_mx5\", test_images[:5]]\n",
    "    }\n",
    "\n",
    "    for split_name, split_content in splits.items():\n",
    "        for file in split_content[1]:\n",
    "            src_path = f\"images_specific/{split_content[0]}/{label}/{file}\"\n",
    "            dest_path = f\"images_split/{split_name}/{label}/{file}\"\n",
    "            shutil.copy(src_path, dest_path)"
   ]
  },
  {
   "cell_type": "markdown",
   "metadata": {},
   "source": [
    "#### Select the available device to perform the torch calculations"
   ]
  },
  {
   "cell_type": "code",
   "execution_count": null,
   "metadata": {},
   "outputs": [],
   "source": [
    "if torch.cuda.is_available():\n",
    "    print(\"Cuda is available. Torch will use Cuda.\")\n",
    "    device = \"cuda\"\n",
    "elif torch.backends.mps.is_available():\n",
    "    print(\"MPS is available. Torch will use MPS.\")\n",
    "    device = \"mps\"\n",
    "else:\n",
    "    print(\"GPU is not available. Torch will fall back to CPU.\")\n",
    "    device = \"cpu\""
   ]
  },
  {
   "cell_type": "markdown",
   "metadata": {},
   "source": [
    "#### Train and load the best YOLO model"
   ]
  },
  {
   "cell_type": "code",
   "execution_count": null,
   "metadata": {},
   "outputs": [],
   "source": [
    "model = YOLO(\"base_model/YOLO11s-cls.pt\")\n",
    "results = model.train(data=\"images_split\", epochs=20, imgsz=640, device=device)\n",
    "\n",
    "old_model_folder = \"runs/classify/train\"\n",
    "new_model_folder = \"runs/classify/specific\"\n",
    "counter = 1\n",
    "while os.path.exists(new_model_folder):\n",
    "    new_model_folder = f\"{new_model_folder}({counter})\"\n",
    "    counter += 1\n",
    "os.rename(old_model_folder, new_model_folder)\n",
    "model = YOLO(f\"{new_model_folder}/weights/best.pt\")"
   ]
  },
  {
   "cell_type": "markdown",
   "metadata": {},
   "source": [
    "#### Get the model predictions and true labels based on the test dataset"
   ]
  },
  {
   "cell_type": "code",
   "execution_count": null,
   "metadata": {},
   "outputs": [],
   "source": [
    "results_correct = model(\"images_split/test/correct\")\n",
    "results_incorrect = model(\"images_split/test/incorrect\")\n",
    "true_labels = [0] * len(results_correct) + [1] * len(results_incorrect)\n",
    "\n",
    "predicted_labels = []\n",
    "for result in results_correct + results_incorrect:\n",
    "    id = result.probs.top1\n",
    "    label = result.names[id]\n",
    "    if label == \"correct\":\n",
    "        predicted_labels.append(0)\n",
    "    else:\n",
    "        predicted_labels.append(1)"
   ]
  },
  {
   "cell_type": "markdown",
   "metadata": {},
   "source": [
    "#### Calculate the model performance and set up a confusion matrix"
   ]
  },
  {
   "cell_type": "code",
   "execution_count": null,
   "metadata": {},
   "outputs": [],
   "source": [
    "acc = accuracy_score(true_labels, predicted_labels)\n",
    "precision = precision_score(true_labels, predicted_labels)\n",
    "recall = recall_score(true_labels, predicted_labels)\n",
    "f1 = f1_score(true_labels, predicted_labels)\n",
    "\n",
    "print(f\"Accuracy:   {acc: .4f}\")\n",
    "print(f\"Precision:  {precision: .4f}\")\n",
    "print(f\"Recall:     {recall: .4f}\")\n",
    "print(f\"F1-score:   {f1: .4f}\")\n",
    "\n",
    "cm = confusion_matrix(true_labels, predicted_labels)\n",
    "plt.figure(figsize=(6, 5))\n",
    "cm = sns.heatmap(cm, annot=True, fmt='d', cmap='Blues', xticklabels=['Correct', 'Incorrect'], yticklabels=['Correct', 'Incorrect'])\n",
    "plt.xlabel('Predicted')\n",
    "plt.ylabel('True')\n",
    "plt.title('Confusion Matrix')\n",
    "plt.show()"
   ]
  },
  {
   "cell_type": "markdown",
   "metadata": {},
   "source": [
    "#### Handle storing the model performance"
   ]
  },
  {
   "cell_type": "code",
   "execution_count": 16,
   "metadata": {},
   "outputs": [],
   "source": [
    "user_input = input(\"Do you want to store the evaluation data (y/n)?\")\n",
    "while user_input != \"y\" and user_input != \"n\":\n",
    "    user_input = input(\"The provided input is invalid! Do you want to store the evaluation data (y/n)?\")\n",
    "\n",
    "if user_input == \"y\":\n",
    "    df = pd.read_csv(f\"{new_model_folder}/results.csv\")\n",
    "    training_time = df['time'].iloc[-1]\n",
    "    data = [images_amount, 20, acc, precision, recall, f1, training_time]\n",
    "    with open(\"evaluation_data/evaluation_data.csv\", mode='a', newline='') as file:\n",
    "        writer = csv.writer(file)\n",
    "        writer.writerow(data)\n",
    "    figure_name = f\"evaluation_data/confusion_matrices/specific.png\"\n",
    "    counter = 1\n",
    "    base_name, ext = os.path.splitext(figure_name)\n",
    "    while os.path.exists(figure_name):\n",
    "        figure_name = f\"{base_name}({counter}){ext}\"\n",
    "        counter += 1\n",
    "    cm.figure.savefig(figure_name)\n",
    "else:\n",
    "    shutil.rmtree(new_model_folder)"
   ]
  }
 ],
 "metadata": {
  "kernelspec": {
   "display_name": "venv",
   "language": "python",
   "name": "python3"
  },
  "language_info": {
   "codemirror_mode": {
    "name": "ipython",
    "version": 3
   },
   "file_extension": ".py",
   "mimetype": "text/x-python",
   "name": "python",
   "nbconvert_exporter": "python",
   "pygments_lexer": "ipython3",
   "version": "3.12.7"
  }
 },
 "nbformat": 4,
 "nbformat_minor": 2
}
