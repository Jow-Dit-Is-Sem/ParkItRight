{
 "cells": [
  {
   "cell_type": "markdown",
   "metadata": {},
   "source": [
    "## ParkItRight"
   ]
  },
  {
   "cell_type": "markdown",
   "metadata": {},
   "source": [
    "#### Import the required libraries"
   ]
  },
  {
   "cell_type": "code",
   "execution_count": 2,
   "metadata": {},
   "outputs": [],
   "source": [
    "import os\n",
    "import random\n",
    "import shutil\n",
    "import torch\n",
    "from ultralytics import YOLO"
   ]
  },
  {
   "cell_type": "markdown",
   "metadata": {},
   "source": [
    "#### Clear the data to train, validate and test the model"
   ]
  },
  {
   "cell_type": "code",
   "execution_count": null,
   "metadata": {},
   "outputs": [],
   "source": [
    "folders_to_clear = [\"data/train/correct\", \"data/train/incorrect\", \"data/test/correct\", \"data/test/incorrect\", \"data/val/correct\", \"data/val/incorrect\"]\n",
    "for folder in folders_to_clear:\n",
    "    for item in os.listdir(folder):\n",
    "        if item != \".gitkeep\":\n",
    "            item_path = os.path.join(folder, item)\n",
    "            os.unlink(item_path)\n",
    "if os.path.exists(\"data/train.cache\"):\n",
    "    os.unlink(\"data/train.cache\")\n",
    "if os.path.exists(\"data/val.cache\"):\n",
    "    os.unlink(\"data/val.cache\")"
   ]
  },
  {
   "cell_type": "markdown",
   "metadata": {},
   "source": [
    "#### Copy the data in random splits of 70% training-data, 20% validation-data and 10% test-data"
   ]
  },
  {
   "cell_type": "code",
   "execution_count": 21,
   "metadata": {},
   "outputs": [],
   "source": [
    "labels = [\"correct\", \"incorrect\"]\n",
    "for label in labels:\n",
    "    folder_path = os.path.join(\"data_raw\", label)\n",
    "    folder_content = os.listdir(folder_path)\n",
    "    random.shuffle(folder_content)\n",
    "    split_ratios = [0.7, 0.2]\n",
    "    split_sizes = [int(len(folder_content) * ratio) for ratio in split_ratios]\n",
    "\n",
    "    splits = {\n",
    "        \"train\": folder_content[:split_sizes[0]],\n",
    "        \"val\": folder_content[split_sizes[0]: split_sizes[0] + split_sizes[1]],\n",
    "        \"test\": folder_content[split_sizes[0] + split_sizes[1]:]\n",
    "    }\n",
    "\n",
    "    for split_name, split_content in splits.items():\n",
    "        for file in split_content:\n",
    "            src_path = os.path.join(folder_path, file)\n",
    "            dest_path = os.path.join(\"data\", split_name, label ,file)\n",
    "            shutil.copy(src_path, dest_path)"
   ]
  },
  {
   "cell_type": "markdown",
   "metadata": {},
   "source": [
    "#### Select the available device to perform the torch calculations"
   ]
  },
  {
   "cell_type": "code",
   "execution_count": null,
   "metadata": {},
   "outputs": [],
   "source": [
    "if torch.cuda.is_available():\n",
    "    print(\"Cuda is available. Torch will use Cuda.\")\n",
    "    device = \"cuda\"\n",
    "elif torch.backends.mps.is_available():\n",
    "    print(\"MPS is available. Torch will use MPS.\")\n",
    "    device = \"mps\"\n",
    "else:\n",
    "    print(\"GPU is not available. Torch will fall back to CPU.\")\n",
    "    device = \"cpu\""
   ]
  },
  {
   "cell_type": "markdown",
   "metadata": {},
   "source": [
    "#### Train the YOLO model"
   ]
  },
  {
   "cell_type": "code",
   "execution_count": null,
   "metadata": {},
   "outputs": [],
   "source": [
    "model = YOLO(\"base_model/YOLO11s-cls.pt\")\n",
    "results = model.train(data=\"data\", epochs=30, imgsz=640, device = device)"
   ]
  }
 ],
 "metadata": {
  "kernelspec": {
   "display_name": "venv",
   "language": "python",
   "name": "python3"
  },
  "language_info": {
   "codemirror_mode": {
    "name": "ipython",
    "version": 3
   },
   "file_extension": ".py",
   "mimetype": "text/x-python",
   "name": "python",
   "nbconvert_exporter": "python",
   "pygments_lexer": "ipython3",
   "version": "3.12.7"
  }
 },
 "nbformat": 4,
 "nbformat_minor": 2
}
