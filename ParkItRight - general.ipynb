{
 "cells": [
  {
   "cell_type": "markdown",
   "metadata": {},
   "source": [
    "## ParkItRight - General"
   ]
  },
  {
   "cell_type": "markdown",
   "metadata": {},
   "source": [
    "#### Import the required libraries"
   ]
  },
  {
   "cell_type": "code",
   "execution_count": 1,
   "metadata": {},
   "outputs": [],
   "source": [
    "%matplotlib inline\n",
    "\n",
    "import os\n",
    "import math\n",
    "import random\n",
    "import shutil\n",
    "import torch\n",
    "from ultralytics import YOLO\n",
    "from sklearn.metrics import accuracy_score, precision_score, recall_score, f1_score, confusion_matrix\n",
    "import seaborn as sns\n",
    "import matplotlib.pyplot as plt\n",
    "import csv\n",
    "import pandas as pd"
   ]
  },
  {
   "cell_type": "markdown",
   "metadata": {},
   "source": [
    "#### Clear the splits for training, validating and testing the model"
   ]
  },
  {
   "cell_type": "code",
   "execution_count": 12,
   "metadata": {},
   "outputs": [],
   "source": [
    "folders_to_clear = [\"images_split/train/correct\", \"images_split/train/incorrect\", \"images_split/test/correct\", \"images_split/test/incorrect\", \"images_split/val/correct\", \"images_split/val/incorrect\"]\n",
    "for folder in folders_to_clear:\n",
    "    for item in os.listdir(folder):\n",
    "        if item != \".gitkeep\":\n",
    "            item_path = os.path.join(folder, item)\n",
    "            os.unlink(item_path)\n",
    "if os.path.exists(\"images_split/train.cache\"):\n",
    "    os.unlink(\"images_split/train.cache\")\n",
    "if os.path.exists(\"images_split/val.cache\"):\n",
    "    os.unlink(\"images_split/val.cache\")"
   ]
  },
  {
   "cell_type": "markdown",
   "metadata": {},
   "source": [
    "#### Enter the amount of images for training the YOLO model"
   ]
  },
  {
   "cell_type": "code",
   "execution_count": 3,
   "metadata": {},
   "outputs": [],
   "source": [
    "def get_images_amount():\n",
    "    images_total_correct = len(os.listdir(\"images_total/correct\"))\n",
    "    images_total_incorrect = len(os.listdir(\"images_total/incorrect\"))\n",
    "    images_train = images_total_correct + images_total_incorrect - 10  \n",
    "    user_input_flag = \"\"\n",
    "    while True:\n",
    "        user_input = input(f\"{user_input_flag}Enter the amount of images used for training the YOLO model. Type \\\"max\\\" for the maximum amount of training images.\")\n",
    "        if user_input == \"max\":\n",
    "            return user_input\n",
    "        elif not user_input.isdigit():\n",
    "            user_input_flag = \"The provided input is not \\\"max\\\" or a digit! \"\n",
    "        elif int(user_input) > images_train:\n",
    "            user_input_flag = \"The provided input is greater than the amount of available images! \"\n",
    "        elif int(user_input) < 14:\n",
    "            user_input_flag = \"The provided input must be larger than 14! \"\n",
    "        else:\n",
    "            return int(user_input)\n",
    "\n",
    "images_amount = get_images_amount()\n",
    "labels = {}\n",
    "if images_amount != \"max\":\n",
    "    correct_amount = math.ceil(images_amount / 2)\n",
    "    incorrect_amount = images_amount - correct_amount\n",
    "    labels_amount = [correct_amount, incorrect_amount]\n",
    "    labels = {\"correct\": correct_amount, \"incorrect\": incorrect_amount}\n",
    "else:\n",
    "    labels = {\"correct\": \"max\", \"incorrect\": \"max\"}"
   ]
  },
  {
   "cell_type": "markdown",
   "metadata": {},
   "source": [
    "#### Copy the data in random splits of 10 images for testing and splits of 75% for training and 25% for validation of the remaining data"
   ]
  },
  {
   "cell_type": "code",
   "execution_count": 4,
   "metadata": {},
   "outputs": [],
   "source": [
    "for label, amount in labels.items():\n",
    "    images = os.listdir(f\"images_total/{label}\")\n",
    "    if \".DS_Store\" in images:\n",
    "        images.remove(\".DS_Store\")\n",
    "    if amount == \"max\":\n",
    "        if images_amount == \"max\":\n",
    "            images_amount = len(images) - 5\n",
    "        else:\n",
    "            images_amount += len(images) - 5\n",
    "    else:\n",
    "        images = images[:amount]\n",
    "    random.shuffle(images)\n",
    "    test_images = images[:5]\n",
    "    train_val_images = images[5:]\n",
    "    cutoff_index = math.ceil(len(train_val_images) * 0.75)\n",
    "\n",
    "    splits = {\n",
    "        \"train\": train_val_images[:cutoff_index],\n",
    "        \"val\": train_val_images[cutoff_index:],\n",
    "        \"test\": test_images\n",
    "    }\n",
    "\n",
    "    for split_name, split_content in splits.items():\n",
    "        for file in split_content:\n",
    "            src_path = f\"images_total/{label}/{file}\"\n",
    "            dest_path = f\"images_split/{split_name}/{label}/{file}\"\n",
    "            shutil.copy(src_path, dest_path)"
   ]
  },
  {
   "cell_type": "markdown",
   "metadata": {},
   "source": [
    "#### Enter the amount of epochs for training the YOLO model"
   ]
  },
  {
   "cell_type": "code",
   "execution_count": 5,
   "metadata": {},
   "outputs": [],
   "source": [
    "user_input = input(\"Enter the amount of epochs for the training of the YOLO model.\")\n",
    "while not user_input.isdigit():\n",
    "    user_input = input(\"The provided input is not a digit! Enter the amount of epochs for the training of the YOLO model.\")\n",
    "epochs = int(user_input)"
   ]
  },
  {
   "cell_type": "markdown",
   "metadata": {},
   "source": [
    "#### Select the available device to perform the torch calculations"
   ]
  },
  {
   "cell_type": "code",
   "execution_count": null,
   "metadata": {},
   "outputs": [],
   "source": [
    "if torch.cuda.is_available():\n",
    "    print(\"Cuda is available. Torch will use Cuda.\")\n",
    "    device = \"cuda\"\n",
    "elif torch.backends.mps.is_available():\n",
    "    print(\"MPS is available. Torch will use MPS.\")\n",
    "    device = \"mps\"\n",
    "else:\n",
    "    print(\"GPU is not available. Torch will fall back to CPU.\")\n",
    "    device = \"cpu\""
   ]
  },
  {
   "cell_type": "markdown",
   "metadata": {},
   "source": [
    "#### Train and load the last and best YOLO model"
   ]
  },
  {
   "cell_type": "code",
   "execution_count": null,
   "metadata": {},
   "outputs": [],
   "source": [
    "model = YOLO(\"base_model/yolo11s-cls.pt\")\n",
    "model.train(data=\"images_split\", epochs=epochs, imgsz=640, device=device)\n",
    "\n",
    "old_model_folder = \"runs/classify/train\"\n",
    "new_model_folder_base = f\"runs/classify/i{images_amount}_e{epochs}\"\n",
    "new_model_folder = new_model_folder_base\n",
    "counter = 1\n",
    "while os.path.exists(new_model_folder):\n",
    "    new_model_folder = f\"{new_model_folder_base}({counter})\"\n",
    "    counter += 1\n",
    "os.rename(old_model_folder, new_model_folder)\n",
    "models = [YOLO(f\"{new_model_folder}/weights/best.pt\"), YOLO(f\"{new_model_folder}/weights/last.pt\")]"
   ]
  },
  {
   "cell_type": "markdown",
   "metadata": {},
   "source": [
    "#### Get the model predictions and true labels based on the test dataset"
   ]
  },
  {
   "cell_type": "code",
   "execution_count": 8,
   "metadata": {},
   "outputs": [],
   "source": [
    "model_test_results= {}\n",
    "for model in models:\n",
    "    results_correct = model(\"images_split/test/correct\", verbose=False)\n",
    "    results_incorrect = model(\"images_split/test/incorrect\", verbose=False)\n",
    "    true_labels = [0] * len(results_correct) + [1] * len(results_incorrect)\n",
    "\n",
    "    predicted_labels = []\n",
    "    for result in results_correct + results_incorrect:\n",
    "        id = result.probs.top1\n",
    "        label = result.names[id]\n",
    "        if label == \"correct\":\n",
    "            predicted_labels.append(0)\n",
    "        else:\n",
    "            predicted_labels.append(1)\n",
    "    model_test_results[model] = {\"true_labels\": true_labels, \"predicted_labels\": predicted_labels}"
   ]
  },
  {
   "cell_type": "markdown",
   "metadata": {},
   "source": [
    "#### Select the best performing model based on the calculated f1-score"
   ]
  },
  {
   "cell_type": "code",
   "execution_count": 9,
   "metadata": {},
   "outputs": [],
   "source": [
    "f1_models = {}\n",
    "for model, test_results in model_test_results.items():\n",
    "    f1 = f1_score(test_results[\"true_labels\"], test_results[\"predicted_labels\"])\n",
    "    f1_models[model] = f1\n",
    "best_model = max(f1_models, key=f1_models.get)"
   ]
  },
  {
   "cell_type": "markdown",
   "metadata": {},
   "source": [
    "#### Calculate the model performance and set up a confusion matrix"
   ]
  },
  {
   "cell_type": "code",
   "execution_count": null,
   "metadata": {},
   "outputs": [],
   "source": [
    "acc = accuracy_score(model_test_results[best_model][\"true_labels\"], model_test_results[best_model][\"predicted_labels\"])\n",
    "precision = precision_score(model_test_results[best_model][\"true_labels\"], model_test_results[best_model][\"predicted_labels\"])\n",
    "recall = recall_score(model_test_results[best_model][\"true_labels\"], model_test_results[best_model][\"predicted_labels\"])\n",
    "f1 = f1_models[best_model]\n",
    "\n",
    "print(f\"Accuracy:   {acc: .2f}\")\n",
    "print(f\"Precision:  {precision: .2f}\")\n",
    "print(f\"Recall:     {recall: .2f}\")\n",
    "print(f\"F1-score:   {f1: .2f}\")\n",
    "\n",
    "cm = confusion_matrix(model_test_results[best_model][\"true_labels\"], model_test_results[best_model][\"predicted_labels\"])\n",
    "plt.figure(figsize=(6, 5))\n",
    "cm = sns.heatmap(cm, annot=True, fmt='d', cmap='Blues', xticklabels=['Correct', 'Incorrect'], yticklabels=['Correct', 'Incorrect'])\n",
    "plt.xlabel('Predicted')\n",
    "plt.ylabel('True')\n",
    "plt.title('Confusion Matrix')\n",
    "plt.show()"
   ]
  },
  {
   "cell_type": "markdown",
   "metadata": {},
   "source": [
    "#### Handle storing the model performance"
   ]
  },
  {
   "cell_type": "code",
   "execution_count": 11,
   "metadata": {},
   "outputs": [],
   "source": [
    "user_input = input(\"Do you want to store the evaluation data (y/n)?\")\n",
    "while user_input != \"y\" and user_input != \"n\":\n",
    "    user_input = input(\"The provided input is invalid! Do you want to store the evaluation data (y/n)?\")\n",
    "\n",
    "if user_input == \"y\":\n",
    "    df = pd.read_csv(f\"{new_model_folder}/results.csv\")\n",
    "    training_time = df['time'].iloc[-1]\n",
    "    data = [images_amount, epochs, acc, precision, recall, f1, training_time]\n",
    "    with open(\"evaluation_data/evaluation_data.csv\", mode='a', newline='') as file:\n",
    "        writer = csv.writer(file)\n",
    "        writer.writerow(data)\n",
    "    figure_name = f\"evaluation_data/confusion_matrices/i{images_amount}_e{epochs}.png\"\n",
    "    counter = 1\n",
    "    base_name, ext = os.path.splitext(figure_name)\n",
    "    while os.path.exists(figure_name):\n",
    "        figure_name = f\"{base_name}({counter}){ext}\"\n",
    "        counter += 1\n",
    "    cm.figure.savefig(figure_name)\n",
    "else:\n",
    "    shutil.rmtree(new_model_folder)"
   ]
  }
 ],
 "metadata": {
  "kernelspec": {
   "display_name": "venv",
   "language": "python",
   "name": "python3"
  },
  "language_info": {
   "codemirror_mode": {
    "name": "ipython",
    "version": 3
   },
   "file_extension": ".py",
   "mimetype": "text/x-python",
   "name": "python",
   "nbconvert_exporter": "python",
   "pygments_lexer": "ipython3",
   "version": "3.12.7"
  }
 },
 "nbformat": 4,
 "nbformat_minor": 2
}
